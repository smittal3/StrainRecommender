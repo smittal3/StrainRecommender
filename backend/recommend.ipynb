{
 "cells": [
  {
   "cell_type": "code",
   "execution_count": 39,
   "metadata": {},
   "outputs": [],
   "source": [
    "import re\n",
    "import pickle\n",
    "import pandas as pd\n",
    "import numpy as np\n",
    "from sklearn.neighbors import NearestNeighbors\n",
    "from sklearn.model_selection import train_test_split\n",
    "from sklearn.feature_extraction.text import TfidfVectorizer\n",
    "from sklearn.metrics import mean_squared_error, precision_score, recall_score\n",
    "\n",
    "import warnings\n",
    "warnings.simplefilter(action='ignore', category=FutureWarning)\n"
   ]
  },
  {
   "cell_type": "code",
   "execution_count": 40,
   "metadata": {},
   "outputs": [
    {
     "data": {
      "text/plain": [
       "<AxesSubplot:>"
      ]
     },
     "execution_count": 40,
     "metadata": {},
     "output_type": "execute_result"
    },
    {
     "data": {
      "image/png": "[encoded data removed]",
      "text/plain": [
       "<Figure size 432x288 with 1 Axes>"
      ]
     },
     "metadata": {
      "needs_background": "light"
     },
     "output_type": "display_data"
    }
   ],
   "source": [
    "# Reading data and cleaning it\n",
    "strain_data = pd.read_csv(\"cannabis.csv\")\n",
    "strain_data.head()\n",
    "\n",
    "# Majority of ratings are in 4 and 5 range so can drop, won't help as feature with recommendation engine\n",
    "strain_data['Rating'].value_counts().sort_index().plot.bar(figsize=(6,4))\n"
   ]
  },
  {
   "cell_type": "code",
   "execution_count": 41,
   "metadata": {},
   "outputs": [
    {
     "data": {
      "text/html": [
       "<div>\n",
       "<style scoped>\n",
       "    .dataframe tbody tr th:only-of-type {\n",
       "        vertical-align: middle;\n",
       "    }\n",
       "\n",
       "    .dataframe tbody tr th {\n",
       "        vertical-align: top;\n",
       "    }\n",
       "\n",
       "    .dataframe thead th {\n",
       "        text-align: right;\n",
       "    }\n",
       "</style>\n",
       "<table border=\"1\" class=\"dataframe\">\n",
       "  <thead>\n",
       "    <tr style=\"text-align: right;\">\n",
       "      <th></th>\n",
       "      <th>Strain</th>\n",
       "      <th>Type</th>\n",
       "      <th>Effects</th>\n",
       "      <th>Flavor</th>\n",
       "      <th>Description</th>\n",
       "    </tr>\n",
       "  </thead>\n",
       "  <tbody>\n",
       "    <tr>\n",
       "      <th>0</th>\n",
       "      <td>100-Og</td>\n",
       "      <td>hybrid</td>\n",
       "      <td>Creative,Energetic,Tingly,Euphoric,Relaxed</td>\n",
       "      <td>Earthy,Sweet,Citrus</td>\n",
       "      <td>$100 OG is a 50/50 hybrid strain that packs a ...</td>\n",
       "    </tr>\n",
       "    <tr>\n",
       "      <th>1</th>\n",
       "      <td>98-White-Widow</td>\n",
       "      <td>hybrid</td>\n",
       "      <td>Relaxed,Aroused,Creative,Happy,Energetic</td>\n",
       "      <td>Flowery,Violet,Diesel</td>\n",
       "      <td>The ‘98 Aloha White Widow is an especially pot...</td>\n",
       "    </tr>\n",
       "    <tr>\n",
       "      <th>2</th>\n",
       "      <td>1024</td>\n",
       "      <td>sativa</td>\n",
       "      <td>Uplifted,Happy,Relaxed,Energetic,Creative</td>\n",
       "      <td>Spicy/Herbal,Sage,Woody</td>\n",
       "      <td>1024 is a sativa-dominant hybrid bred in Spain...</td>\n",
       "    </tr>\n",
       "    <tr>\n",
       "      <th>3</th>\n",
       "      <td>13-Dawgs</td>\n",
       "      <td>hybrid</td>\n",
       "      <td>Tingly,Creative,Hungry,Relaxed,Uplifted</td>\n",
       "      <td>Apricot,Citrus,Grapefruit</td>\n",
       "      <td>13 Dawgs is a hybrid of G13 and Chemdawg genet...</td>\n",
       "    </tr>\n",
       "    <tr>\n",
       "      <th>4</th>\n",
       "      <td>24K-Gold</td>\n",
       "      <td>hybrid</td>\n",
       "      <td>Happy,Relaxed,Euphoric,Uplifted,Talkative</td>\n",
       "      <td>Citrus,Earthy,Orange</td>\n",
       "      <td>Also known as Kosher Tangie, 24k Gold is a 60%...</td>\n",
       "    </tr>\n",
       "  </tbody>\n",
       "</table>\n",
       "</div>"
      ],
      "text/plain": [
       "           Strain    Type                                     Effects  \\\n",
       "0          100-Og  hybrid  Creative,Energetic,Tingly,Euphoric,Relaxed   \n",
       "1  98-White-Widow  hybrid    Relaxed,Aroused,Creative,Happy,Energetic   \n",
       "2            1024  sativa   Uplifted,Happy,Relaxed,Energetic,Creative   \n",
       "3        13-Dawgs  hybrid     Tingly,Creative,Hungry,Relaxed,Uplifted   \n",
       "4        24K-Gold  hybrid   Happy,Relaxed,Euphoric,Uplifted,Talkative   \n",
       "\n",
       "                      Flavor  \\\n",
       "0        Earthy,Sweet,Citrus   \n",
       "1      Flowery,Violet,Diesel   \n",
       "2    Spicy/Herbal,Sage,Woody   \n",
       "3  Apricot,Citrus,Grapefruit   \n",
       "4       Citrus,Earthy,Orange   \n",
       "\n",
       "                                         Description  \n",
       "0  $100 OG is a 50/50 hybrid strain that packs a ...  \n",
       "1  The ‘98 Aloha White Widow is an especially pot...  \n",
       "2  1024 is a sativa-dominant hybrid bred in Spain...  \n",
       "3  13 Dawgs is a hybrid of G13 and Chemdawg genet...  \n",
       "4  Also known as Kosher Tangie, 24k Gold is a 60%...  "
      ]
     },
     "execution_count": 41,
     "metadata": {},
     "output_type": "execute_result"
    }
   ],
   "source": [
    "# Drop the rating column\n",
    "strain_data = strain_data.drop([\"Rating\"], axis=1)\n",
    "\n",
    "# Drop any null value rows\n",
    "strain_data = strain_data.dropna()\n",
    "strain_data = strain_data[strain_data.Effects != \"None\"]\n",
    "strain_data = strain_data[strain_data.Flavor != \"None\"]\n",
    "strain_data = strain_data.reset_index(drop=True)\n",
    "strain_data.head()\n"
   ]
  },
  {
   "cell_type": "code",
   "execution_count": 42,
   "metadata": {},
   "outputs": [
    {
     "name": "stdout",
     "output_type": "stream",
     "text": [
      "14\n",
      "47\n"
     ]
    }
   ],
   "source": [
    "# We have 2163 strains in the dataset\n",
    "strain_data.shape\n",
    "\n",
    "effects = {\"Happy\"}\n",
    "for effect in strain_data[\"Effects\"].unique():\n",
    "  effects.update(effect.split(\",\")[0].split(\" \"))\n",
    "\n",
    "flavors = {\"Earthy\"}\n",
    "for flav in strain_data[\"Flavor\"].unique():\n",
    "  flavors.update(flav.split(\",\")[0].split(\" \"))\n",
    "\n",
    "# 16 Unique Effects and 51 Flavors\n",
    "print(len(effects))\n",
    "print(len(flavors))"
   ]
  },
  {
   "cell_type": "code",
   "execution_count": 43,
   "metadata": {},
   "outputs": [],
   "source": [
    "# Convert data to lowercase and remove special characters\n",
    "cols = [\"Type\", \"Effects\", \"Flavor\", \"Description\"]\n",
    "for col_name in cols:\n",
    "  strain_data[col_name] = strain_data[col_name].apply(lambda x: str(x).lower())\n",
    "  strain_data[col_name] = strain_data[col_name].apply(lambda x: re.sub('[^a-zA-Z 0-9]', ' ',x))\n",
    "  \n",
    "# Combining all data into one feature \n",
    "strain_data[\"Combined\"] = strain_data[\"Type\"] + ' ' + strain_data['Effects'] + ' ' + strain_data['Flavor']"
   ]
  },
  {
   "cell_type": "code",
   "execution_count": 44,
   "metadata": {},
   "outputs": [
    {
     "data": {
      "text/plain": [
       "'hybrid creative energetic tingly euphoric relaxed earthy sweet citrus'"
      ]
     },
     "execution_count": 44,
     "metadata": {},
     "output_type": "execute_result"
    }
   ],
   "source": [
    "# Ex Combined Feature\n",
    "strain_data[\"Combined\"][0]"
   ]
  },
  {
   "cell_type": "code",
   "execution_count": 45,
   "metadata": {},
   "outputs": [],
   "source": [
    "# Instantiate TFIDF vectorizer\n",
    "# Using unigrams and bigrams, ignoring words that don't appear for at least 5 strains and \n",
    "# those that appear in more than 80% with max feature creation of 5000\n",
    "tfidf = TfidfVectorizer(stop_words = 'english', ngram_range = (1,2), min_df = 5, max_df = 0.8, max_features = 5000)\n",
    "\n",
    "\n",
    "\n",
    "# Storing strain df for later use\n",
    "pickle.dump(strain_data, open(\"strain_data.pkl\", 'wb'))\n",
    "\n",
    "\n",
    "# Storing knn model for later use\n",
    "file = open('models/tfidf_model.pkl', 'wb')\n",
    "\n",
    "# dump information to that file\n",
    "pickle.dump(tfidf, file)\n",
    "\n",
    "# close the file\n",
    "file.close()\n",
    "\n",
    "# Transform strain texts to produce document-term-matrix(dtm)\n",
    "dtm=pd.DataFrame(tfidf.fit_transform(strain_data['Combined']).todense(), columns=tfidf.get_feature_names_out())"
   ]
  },
  {
   "cell_type": "code",
   "execution_count": 46,
   "metadata": {},
   "outputs": [],
   "source": [
    "# Fit on DTM, only finding 3 neighbors below\n",
    "nn = NearestNeighbors(n_neighbors=5, algorithm='kd_tree')\n",
    "nn.fit(dtm.values)\n",
    "\n",
    "# Storing knn model for later use\n",
    "file = open('models/kNN-5.pkl', 'wb')\n",
    "\n",
    "# dump information to that file\n",
    "pickle.dump(nn, file)\n",
    "\n",
    "# close the file\n",
    "file.close()"
   ]
  },
  {
   "cell_type": "code",
   "execution_count": 47,
   "metadata": {},
   "outputs": [],
   "source": [
    "def get_recommendation(type, flavors, effects):\n",
    "  # Creating user req string with all requested params\n",
    "  for t in type:\n",
    "      user_req = t + \" \"\n",
    "      \n",
    "  for flavor in flavors:\n",
    "    user_req += flavor + \" \"\n",
    "    \n",
    "  for effect in effects: \n",
    "    user_req += effect + \" \"\n",
    "    \n",
    "  # Cleaning the user req \n",
    "  user_req = user_req.lower()\n",
    "  user_req = np.asarray([user_req])\n",
    "  \n",
    "  distances, indices = nn.kneighbors((tfidf.transform(user_req)).todense())\n",
    "  \n",
    "  # Changing dimension of indices array from 2 to 1\n",
    "  indices = indices[0]  \n",
    "  \n",
    "  return strain_data.iloc[indices]['Strain'].values, distances, indices\n",
    "\n",
    "  "
   ]
  },
  {
   "cell_type": "code",
   "execution_count": 48,
   "metadata": {},
   "outputs": [
    {
     "name": "stdout",
     "output_type": "stream",
     "text": [
      "White-Empress (indica) : F[sweet citrus earthy] E[energetic euphoric happy relaxed sleepy] \n",
      "----\n",
      "Colorado-Clementines (indica) : F[citrus earthy orange] E[relaxed happy sleepy euphoric hungry] \n",
      "----\n",
      "Skywalker (indica) : F[earthy sweet citrus] E[relaxed euphoric sleepy happy uplifted] \n",
      "----\n",
      "Sweet-Lafayette (indica) : F[citrus earthy pine] E[relaxed happy euphoric uplifted aroused] \n",
      "----\n",
      "Og-Cheese (hybrid) : F[cheese citrus earthy] E[relaxed creative happy sleepy uplifted] \n",
      "----\n"
     ]
    }
   ],
   "source": [
    "recs, distances, indices = get_recommendation([\"Indica\"], [\"Citrus, Earthy\"], [\"Sleepy\", \"Happy\"])\n",
    "for each in indices:\n",
    "  print(strain_data.iloc[each][\"Strain\"] + \" (\"  + strain_data.iloc[each][\"Type\"] + \")\", \":\", \"F[\" + strain_data.iloc[each][\"Flavor\"] +\"]\", \"E[\" + strain_data.iloc[each][\"Effects\"] +\"]\", '\\n----')"
   ]
  },
  {
   "cell_type": "code",
   "execution_count": 49,
   "metadata": {},
   "outputs": [],
   "source": [
    "# Testing the model\n",
    "\n",
    "# Split the data into training and test sets\n",
    "X_train, X_test, y_train, y_test = train_test_split(dtm, strain_data['Strain'], test_size=0.2, random_state=42)\n"
   ]
  },
  {
   "cell_type": "code",
   "execution_count": 50,
   "metadata": {},
   "outputs": [],
   "source": [
    "# Make predictions on the test data\n",
    "predictions = []\n",
    "distances = []\n",
    "for index, row in X_test.iterrows():\n",
    "  effects = strain_data.iloc[index]['Effects'].split(\",\")\n",
    "  flavors = strain_data.iloc[index]['Flavor'].split(\",\")\n",
    "  type = [strain_data.iloc[index]['Type']]\n",
    "  recommendations, distance, indices = get_recommendation(type, flavors, effects)\n",
    "  predictions.append(recommendations)\n",
    "  distances.append(distance)\n"
   ]
  },
  {
   "cell_type": "code",
   "execution_count": 51,
   "metadata": {},
   "outputs": [
    {
     "data": {
      "text/plain": [
       "array(['Ganesh-Berry', 'Purple-Cow', 'Purple-Headband',\n",
       "       'Super-Silver-Lights', 'Atmosphere'], dtype=object)"
      ]
     },
     "execution_count": 51,
     "metadata": {},
     "output_type": "execute_result"
    }
   ],
   "source": [
    "effects = strain_data.iloc[786]['Effects'].split(\",\")\n",
    "flavors = strain_data.iloc[786]['Flavor'].split(\",\")\n",
    "type = [strain_data.iloc[786]['Type']]\n",
    "\n",
    "recommendations, distance, indices = get_recommendation(type, flavors, effects)\n",
    "recommendations"
   ]
  },
  {
   "attachments": {},
   "cell_type": "markdown",
   "metadata": {},
   "source": [
    "Not completely sure about testing. Currently only testing whether KNN is at least providing the input strain as the most similar in recommendations."
   ]
  },
  {
   "cell_type": "code",
   "execution_count": 52,
   "metadata": {},
   "outputs": [
    {
     "name": "stdout",
     "output_type": "stream",
     "text": [
      "1592\n",
      "849\n",
      "117\n",
      "['Purple-Urkle' 'Grape-Ape' 'Purple-Wreck' 'Purple-Gorilla' 'Sour-Grapes']\n"
     ]
    }
   ],
   "source": [
    "# Evaluate the predictions\n",
    "# First test is to see whether the first recommended strain in a set of recommendations is the input strain itself\n",
    "for index, pred in enumerate(predictions):\n",
    "  # find index of the first strain in the original data frame\n",
    "  idx = strain_data.index[strain_data[\"Strain\"] == pred[0]].to_list()\n",
    "  idx = idx[0]\n",
    "  idx_in_test = X_test.index[index]\n",
    "  if idx != idx_in_test:\n",
    "    print(idx)\n",
    "    print(idx_in_test)\n",
    "    print(index)\n",
    "    print(pred)\n",
    "\n"
   ]
  },
  {
   "cell_type": "code",
   "execution_count": 53,
   "metadata": {},
   "outputs": [
    {
     "data": {
      "text/plain": [
       "1592"
      ]
     },
     "execution_count": 53,
     "metadata": {},
     "output_type": "execute_result"
    }
   ],
   "source": [
    "idx = strain_data.index[strain_data[\"Strain\"] == \"Purple-Urkle\"].to_list()[0]\n",
    "idx\n"
   ]
  }
 ],
 "metadata": {
  "kernelspec": {
   "display_name": "CMSC320",
   "language": "python",
   "name": "python3"
  },
  "language_info": {
   "codemirror_mode": {
    "name": "ipython",
    "version": 3
   },
   "file_extension": ".py",
   "mimetype": "text/x-python",
   "name": "python",
   "nbconvert_exporter": "python",
   "pygments_lexer": "ipython3",
   "version": "3.8.12"
  },
  "orig_nbformat": 4,
  "vscode": {
   "interpreter": {
    "hash": "3fc60d7bf1340bb4956adbf53f74f3850f6401f711c9bb9ce1f59ffe0424dab6"
   }
  }
 },
 "nbformat": 4,
 "nbformat_minor": 2
}
